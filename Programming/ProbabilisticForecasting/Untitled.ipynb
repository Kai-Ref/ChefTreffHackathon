{
 "cells": [
  {
   "cell_type": "code",
   "execution_count": 1,
   "id": "56c25e4c-92bd-41e0-9ff3-e258cc9b8da7",
   "metadata": {},
   "outputs": [],
   "source": [
    "# Going to try out some general/default way of producing probabilistic forecasts"
   ]
  }
 ],
 "metadata": {
  "kernelspec": {
   "display_name": "hackathon_kernel",
   "language": "python",
   "name": "hackathon_kernel"
  },
  "language_info": {
   "codemirror_mode": {
    "name": "ipython",
    "version": 3
   },
   "file_extension": ".py",
   "mimetype": "text/x-python",
   "name": "python",
   "nbconvert_exporter": "python",
   "pygments_lexer": "ipython3",
   "version": "3.10.5"
  }
 },
 "nbformat": 4,
 "nbformat_minor": 5
}
