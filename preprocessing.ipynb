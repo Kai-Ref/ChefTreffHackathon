{
 "cells": [
  {
   "cell_type": "markdown",
   "metadata": {},
   "source": [
    "# Plugged In 15 Min"
   ]
  },
  {
   "cell_type": "code",
   "execution_count": 75,
   "metadata": {},
   "outputs": [],
   "source": [
    "import pandas as pd\n",
    "\n",
    "df_org = pd.read_csv('datasets/first_tier_data_set.csv')\n",
    "df_org['start_time'] = pd.to_datetime(df_org['start_time'])\n",
    "df_org['end_time'] = pd.to_datetime(df_org['end_time'])\n",
    "\n",
    "\n",
    "start_time = df_org.start_time.min().floor('15min')\n",
    "end_time = df_org.end_time.max().floor('15min')\n",
    "\n",
    "index = pd.date_range(start=start_time, end=end_time, freq='15T')\n",
    "\n",
    "df = pd.DataFrame(index=index, columns=['device_1', 'device_2', 'device_3', 'device_4', 'device_5', 'device_6', 'device_7'])\n",
    "df[:] = False\n",
    "\n",
    "\n",
    "\n",
    "\n",
    "for i, row in df_org.iterrows():\n",
    "    start = row['start_time'].round('15min')\n",
    "    end = row['end_time'].round('15min')\n",
    "    device_id = row['device_id']\n",
    "\n",
    "    df.loc[start:end, f\"device_{device_id}\"] = True\n",
    "\n",
    "pd.set_option('display.max_rows', 100)\n",
    "df.head(100)\n",
    "df.to_csv('plugged_in_15_min.csv')"
   ]
  },
  {
   "cell_type": "code",
   "execution_count": 108,
   "metadata": {},
   "outputs": [],
   "source": [
    "import pandas as pd\n",
    "\n",
    "df_org = pd.read_csv('datasets/first_tier_data_set.csv')\n",
    "df_org['start_time'] = pd.to_datetime(df_org['start_time'])\n",
    "df_org['end_time'] = pd.to_datetime(df_org['end_time'])\n",
    "\n",
    "df_prices = pd.read_csv('datasets/first_tier_prices_actual.csv')\n",
    "df_prices['datetime_utc'] = pd.to_datetime(df_prices['datetime_utc'])\n",
    "df_prices.set_index('datetime_utc', inplace=True)\n",
    "\n",
    "\n",
    "start_time = df_org.start_time.min().floor('15min')\n",
    "end_time = df_org.end_time.max().floor('15min')\n",
    "\n",
    "df_new = pd.DataFrame(columns=['start', 'n_intervals', 'device_id', 'prices'])\n",
    "\n",
    "for i, row in df_org.iterrows():\n",
    "    \n",
    "    data = {}\n",
    "    data['start'] = row['start_time'].round('15min')\n",
    "    data['n_intervals'] = (row['end_time'].round('15min') - row['start_time'].round('15min')).seconds // 900\n",
    "    data[\"device_id\"] = row['device_id']\n",
    "    \n",
    "    data['prices'] = list(df_prices.loc[data['start']:row['end_time'].round('15min'), 'energy_costs_ct_per_kWh'])\n",
    "\n",
    "    df_new.loc[i] = data\n",
    "\n",
    "df_new.to_csv('fabian.csv')"
   ]
  },
  {
   "cell_type": "markdown",
   "metadata": {},
   "source": [
    "# "
   ]
  },
  {
   "cell_type": "code",
   "execution_count": 98,
   "metadata": {},
   "outputs": [],
   "source": [
    "import pandas as pd\n",
    "\n",
    "df_org = pd.read_csv('datasets/first_tier_data_set.csv')\n",
    "df_org['start_time'] = pd.to_datetime(df_org['start_time'])\n",
    "df_org['end_time'] = pd.to_datetime(df_org['end_time'])\n",
    "\n",
    "\n",
    "start_time = df_org.start_time.min().floor('15min')\n",
    "end_time = df_org.end_time.max().floor('15min')\n",
    "\n",
    "index = pd.date_range(start=start_time, end=end_time, freq='15min')\n",
    "\n",
    "col_names_plugged_in = {f\"device_{i}_plugged_in\":bool for i in range(1, 8)}\n",
    "col_names_kWh_charged = {f\"device_{i}_kWh_charged\":float for i in range(1, 8)}\n",
    "\n",
    "\n",
    "df = pd.DataFrame(index=index, dtype=col_names_plugged_in.update(col_names_kWh_charged))\n",
    "df[list(col_names_plugged_in.keys())] = False\n",
    "df[list(col_names_kWh_charged.keys())] = 0.0\n",
    "\n",
    "\n",
    "\n",
    "\n",
    "for i, row in df_org.iterrows():\n",
    "    start = row['start_time'].round('15min')\n",
    "    end = row['end_time'].round('15min')\n",
    "    \n",
    "    device_id = row['device_id']\n",
    "    kWh_charged = row['kWh_charged']\n",
    "\n",
    "    num_intervals = (end - start).seconds / 60 / 15\n",
    "\n",
    "    if num_intervals == 0:\n",
    "        num_intervals = 1\n",
    "\n",
    "    df.loc[start:end, f\"device_{device_id}_plugged_in\"] = True\n",
    "    df.loc[start:end, f\"device_{device_id}_kWh_charged\"] = (kWh_charged / num_intervals)\n",
    "\n",
    "\n",
    "\n",
    "\n",
    "pd.set_option('display.max_rows', 100)\n",
    "df.head(100)\n",
    "df.to_csv('plugged_in_15_min2.csv')"
   ]
  },
  {
   "cell_type": "code",
   "execution_count": 73,
   "metadata": {},
   "outputs": [
    {
     "name": "stdout",
     "output_type": "stream",
     "text": [
      "device_1_kWh_charged: 2812.35\n",
      "device_2_kWh_charged: 5902.30\n",
      "device_3_kWh_charged: 6027.26\n",
      "device_4_kWh_charged: 165.96\n",
      "device_5_kWh_charged: 878.90\n",
      "device_6_kWh_charged: 1586.77\n",
      "device_7_kWh_charged: 1331.19\n"
     ]
    }
   ],
   "source": [
    "for col in col_names_kWh_charged.keys():\n",
    "\n",
    "    sum = df[col].sum()\n",
    "    print(f\"{col}: {sum:.2f}\")"
   ]
  },
  {
   "cell_type": "code",
   "execution_count": 74,
   "metadata": {},
   "outputs": [
    {
     "data": {
      "text/plain": [
       "device_id\n",
       "1    2653.119755\n",
       "2    3867.058799\n",
       "3    1278.714737\n",
       "4     161.175438\n",
       "5     532.026328\n",
       "6    1061.144400\n",
       "7     976.073102\n",
       "Name: kWh_charged, dtype: float64"
      ]
     },
     "execution_count": 74,
     "metadata": {},
     "output_type": "execute_result"
    }
   ],
   "source": [
    "df_org.groupby('device_id')['kWh_charged'].sum()"
   ]
  },
  {
   "cell_type": "code",
   "execution_count": 81,
   "metadata": {},
   "outputs": [],
   "source": [
    "def check_doubles(df):\n",
    "    # Überlappende Zeiträume finden\n",
    "    overlapping_rows = []\n",
    "\n",
    "    for i in range(len(df)):\n",
    "        for j in range(i + 1, len(df)):\n",
    "            if (df.loc[i, 'start_time'] <= df.loc[j, 'end_time']) and (df.loc[j, 'start_time'] <= df.loc[i, 'end_time']):\n",
    "                overlapping_rows.append((df.loc[i], df.loc[j]))\n",
    "\n",
    "    # Ausgeben der überlappenden Zeilen\n",
    "    if overlapping_rows:\n",
    "        print(\"Überlappende Zeiträume gefunden:\")\n",
    "        for pair in overlapping_rows:\n",
    "            print(f\"Zeile {pair[0]} und Zeile {pair[1]}\")\n",
    "    else:\n",
    "        print(\"Keine überlappenden Zeiträume gefunden.\")\n",
    "\n",
    "    return overlapping_rows"
   ]
  },
  {
   "cell_type": "code",
   "execution_count": 80,
   "metadata": {},
   "outputs": [
    {
     "ename": "KeyError",
     "evalue": "16",
     "output_type": "error",
     "traceback": [
      "\u001b[1;31m---------------------------------------------------------------------------\u001b[0m",
      "\u001b[1;31mKeyError\u001b[0m                                  Traceback (most recent call last)",
      "File \u001b[1;32md:\\Programme\\Python311\\Lib\\site-packages\\pandas\\core\\indexes\\base.py:3790\u001b[0m, in \u001b[0;36mIndex.get_loc\u001b[1;34m(self, key)\u001b[0m\n\u001b[0;32m   3789\u001b[0m \u001b[38;5;28;01mtry\u001b[39;00m:\n\u001b[1;32m-> 3790\u001b[0m     \u001b[38;5;28;01mreturn\u001b[39;00m \u001b[38;5;28;43mself\u001b[39;49m\u001b[38;5;241;43m.\u001b[39;49m\u001b[43m_engine\u001b[49m\u001b[38;5;241;43m.\u001b[39;49m\u001b[43mget_loc\u001b[49m\u001b[43m(\u001b[49m\u001b[43mcasted_key\u001b[49m\u001b[43m)\u001b[49m\n\u001b[0;32m   3791\u001b[0m \u001b[38;5;28;01mexcept\u001b[39;00m \u001b[38;5;167;01mKeyError\u001b[39;00m \u001b[38;5;28;01mas\u001b[39;00m err:\n",
      "File \u001b[1;32mindex.pyx:152\u001b[0m, in \u001b[0;36mpandas._libs.index.IndexEngine.get_loc\u001b[1;34m()\u001b[0m\n",
      "File \u001b[1;32mindex.pyx:181\u001b[0m, in \u001b[0;36mpandas._libs.index.IndexEngine.get_loc\u001b[1;34m()\u001b[0m\n",
      "File \u001b[1;32mpandas\\_libs\\hashtable_class_helper.pxi:2606\u001b[0m, in \u001b[0;36mpandas._libs.hashtable.Int64HashTable.get_item\u001b[1;34m()\u001b[0m\n",
      "File \u001b[1;32mpandas\\_libs\\hashtable_class_helper.pxi:2630\u001b[0m, in \u001b[0;36mpandas._libs.hashtable.Int64HashTable.get_item\u001b[1;34m()\u001b[0m\n",
      "\u001b[1;31mKeyError\u001b[0m: 16",
      "\nThe above exception was the direct cause of the following exception:\n",
      "\u001b[1;31mKeyError\u001b[0m                                  Traceback (most recent call last)",
      "Cell \u001b[1;32mIn[80], line 3\u001b[0m\n\u001b[0;32m      1\u001b[0m \u001b[38;5;28;01mfor\u001b[39;00m h \u001b[38;5;129;01min\u001b[39;00m \u001b[38;5;28mrange\u001b[39m(\u001b[38;5;241m1\u001b[39m, \u001b[38;5;241m8\u001b[39m):\n\u001b[0;32m      2\u001b[0m     df_device \u001b[38;5;241m=\u001b[39m df_org[df_org[\u001b[38;5;124m'\u001b[39m\u001b[38;5;124mdevice_id\u001b[39m\u001b[38;5;124m'\u001b[39m] \u001b[38;5;241m==\u001b[39m h]\n\u001b[1;32m----> 3\u001b[0m     a \u001b[38;5;241m=\u001b[39m \u001b[43mcheck_doubles\u001b[49m\u001b[43m(\u001b[49m\u001b[43mdf_device\u001b[49m\u001b[43m)\u001b[49m\n\u001b[0;32m      4\u001b[0m     \u001b[38;5;28mprint\u001b[39m(a)\n",
      "Cell \u001b[1;32mIn[79], line 7\u001b[0m, in \u001b[0;36mcheck_doubles\u001b[1;34m(df)\u001b[0m\n\u001b[0;32m      5\u001b[0m \u001b[38;5;28;01mfor\u001b[39;00m i \u001b[38;5;129;01min\u001b[39;00m \u001b[38;5;28mrange\u001b[39m(\u001b[38;5;28mlen\u001b[39m(df)):\n\u001b[0;32m      6\u001b[0m     \u001b[38;5;28;01mfor\u001b[39;00m j \u001b[38;5;129;01min\u001b[39;00m \u001b[38;5;28mrange\u001b[39m(i \u001b[38;5;241m+\u001b[39m \u001b[38;5;241m1\u001b[39m, \u001b[38;5;28mlen\u001b[39m(df)):\n\u001b[1;32m----> 7\u001b[0m         \u001b[38;5;28;01mif\u001b[39;00m (df\u001b[38;5;241m.\u001b[39mloc[i, \u001b[38;5;124m'\u001b[39m\u001b[38;5;124mstart_time\u001b[39m\u001b[38;5;124m'\u001b[39m] \u001b[38;5;241m<\u001b[39m\u001b[38;5;241m=\u001b[39m \u001b[43mdf\u001b[49m\u001b[38;5;241;43m.\u001b[39;49m\u001b[43mloc\u001b[49m\u001b[43m[\u001b[49m\u001b[43mj\u001b[49m\u001b[43m,\u001b[49m\u001b[43m \u001b[49m\u001b[38;5;124;43m'\u001b[39;49m\u001b[38;5;124;43mend_time\u001b[39;49m\u001b[38;5;124;43m'\u001b[39;49m\u001b[43m]\u001b[49m) \u001b[38;5;129;01mand\u001b[39;00m (df\u001b[38;5;241m.\u001b[39mloc[j, \u001b[38;5;124m'\u001b[39m\u001b[38;5;124mstart_time\u001b[39m\u001b[38;5;124m'\u001b[39m] \u001b[38;5;241m<\u001b[39m\u001b[38;5;241m=\u001b[39m df\u001b[38;5;241m.\u001b[39mloc[i, \u001b[38;5;124m'\u001b[39m\u001b[38;5;124mend_time\u001b[39m\u001b[38;5;124m'\u001b[39m]):\n\u001b[0;32m      8\u001b[0m             \u001b[38;5;28;01mpass\u001b[39;00m\u001b[38;5;66;03m# overlapping_rows.append((df.loc[i], df.loc[j]))\u001b[39;00m\n\u001b[0;32m     10\u001b[0m \u001b[38;5;66;03m# Ausgeben der überlappenden Zeilen\u001b[39;00m\n",
      "File \u001b[1;32md:\\Programme\\Python311\\Lib\\site-packages\\pandas\\core\\indexing.py:1146\u001b[0m, in \u001b[0;36m_LocationIndexer.__getitem__\u001b[1;34m(self, key)\u001b[0m\n\u001b[0;32m   1144\u001b[0m     key \u001b[38;5;241m=\u001b[39m \u001b[38;5;28mtuple\u001b[39m(com\u001b[38;5;241m.\u001b[39mapply_if_callable(x, \u001b[38;5;28mself\u001b[39m\u001b[38;5;241m.\u001b[39mobj) \u001b[38;5;28;01mfor\u001b[39;00m x \u001b[38;5;129;01min\u001b[39;00m key)\n\u001b[0;32m   1145\u001b[0m     \u001b[38;5;28;01mif\u001b[39;00m \u001b[38;5;28mself\u001b[39m\u001b[38;5;241m.\u001b[39m_is_scalar_access(key):\n\u001b[1;32m-> 1146\u001b[0m         \u001b[38;5;28;01mreturn\u001b[39;00m \u001b[38;5;28;43mself\u001b[39;49m\u001b[38;5;241;43m.\u001b[39;49m\u001b[43mobj\u001b[49m\u001b[38;5;241;43m.\u001b[39;49m\u001b[43m_get_value\u001b[49m\u001b[43m(\u001b[49m\u001b[38;5;241;43m*\u001b[39;49m\u001b[43mkey\u001b[49m\u001b[43m,\u001b[49m\u001b[43m \u001b[49m\u001b[43mtakeable\u001b[49m\u001b[38;5;241;43m=\u001b[39;49m\u001b[38;5;28;43mself\u001b[39;49m\u001b[38;5;241;43m.\u001b[39;49m\u001b[43m_takeable\u001b[49m\u001b[43m)\u001b[49m\n\u001b[0;32m   1147\u001b[0m     \u001b[38;5;28;01mreturn\u001b[39;00m \u001b[38;5;28mself\u001b[39m\u001b[38;5;241m.\u001b[39m_getitem_tuple(key)\n\u001b[0;32m   1148\u001b[0m \u001b[38;5;28;01melse\u001b[39;00m:\n\u001b[0;32m   1149\u001b[0m     \u001b[38;5;66;03m# we by definition only have the 0th axis\u001b[39;00m\n",
      "File \u001b[1;32md:\\Programme\\Python311\\Lib\\site-packages\\pandas\\core\\frame.py:4015\u001b[0m, in \u001b[0;36mDataFrame._get_value\u001b[1;34m(self, index, col, takeable)\u001b[0m\n\u001b[0;32m   4009\u001b[0m engine \u001b[38;5;241m=\u001b[39m \u001b[38;5;28mself\u001b[39m\u001b[38;5;241m.\u001b[39mindex\u001b[38;5;241m.\u001b[39m_engine\n\u001b[0;32m   4011\u001b[0m \u001b[38;5;28;01mif\u001b[39;00m \u001b[38;5;129;01mnot\u001b[39;00m \u001b[38;5;28misinstance\u001b[39m(\u001b[38;5;28mself\u001b[39m\u001b[38;5;241m.\u001b[39mindex, MultiIndex):\n\u001b[0;32m   4012\u001b[0m     \u001b[38;5;66;03m# CategoricalIndex: Trying to use the engine fastpath may give incorrect\u001b[39;00m\n\u001b[0;32m   4013\u001b[0m     \u001b[38;5;66;03m#  results if our categories are integers that dont match our codes\u001b[39;00m\n\u001b[0;32m   4014\u001b[0m     \u001b[38;5;66;03m# IntervalIndex: IntervalTree has no get_loc\u001b[39;00m\n\u001b[1;32m-> 4015\u001b[0m     row \u001b[38;5;241m=\u001b[39m \u001b[38;5;28;43mself\u001b[39;49m\u001b[38;5;241;43m.\u001b[39;49m\u001b[43mindex\u001b[49m\u001b[38;5;241;43m.\u001b[39;49m\u001b[43mget_loc\u001b[49m\u001b[43m(\u001b[49m\u001b[43mindex\u001b[49m\u001b[43m)\u001b[49m\n\u001b[0;32m   4016\u001b[0m     \u001b[38;5;28;01mreturn\u001b[39;00m series\u001b[38;5;241m.\u001b[39m_values[row]\n\u001b[0;32m   4018\u001b[0m \u001b[38;5;66;03m# For MultiIndex going through engine effectively restricts us to\u001b[39;00m\n\u001b[0;32m   4019\u001b[0m \u001b[38;5;66;03m#  same-length tuples; see test_get_set_value_no_partial_indexing\u001b[39;00m\n",
      "File \u001b[1;32md:\\Programme\\Python311\\Lib\\site-packages\\pandas\\core\\indexes\\base.py:3797\u001b[0m, in \u001b[0;36mIndex.get_loc\u001b[1;34m(self, key)\u001b[0m\n\u001b[0;32m   3792\u001b[0m     \u001b[38;5;28;01mif\u001b[39;00m \u001b[38;5;28misinstance\u001b[39m(casted_key, \u001b[38;5;28mslice\u001b[39m) \u001b[38;5;129;01mor\u001b[39;00m (\n\u001b[0;32m   3793\u001b[0m         \u001b[38;5;28misinstance\u001b[39m(casted_key, abc\u001b[38;5;241m.\u001b[39mIterable)\n\u001b[0;32m   3794\u001b[0m         \u001b[38;5;129;01mand\u001b[39;00m \u001b[38;5;28many\u001b[39m(\u001b[38;5;28misinstance\u001b[39m(x, \u001b[38;5;28mslice\u001b[39m) \u001b[38;5;28;01mfor\u001b[39;00m x \u001b[38;5;129;01min\u001b[39;00m casted_key)\n\u001b[0;32m   3795\u001b[0m     ):\n\u001b[0;32m   3796\u001b[0m         \u001b[38;5;28;01mraise\u001b[39;00m InvalidIndexError(key)\n\u001b[1;32m-> 3797\u001b[0m     \u001b[38;5;28;01mraise\u001b[39;00m \u001b[38;5;167;01mKeyError\u001b[39;00m(key) \u001b[38;5;28;01mfrom\u001b[39;00m \u001b[38;5;21;01merr\u001b[39;00m\n\u001b[0;32m   3798\u001b[0m \u001b[38;5;28;01mexcept\u001b[39;00m \u001b[38;5;167;01mTypeError\u001b[39;00m:\n\u001b[0;32m   3799\u001b[0m     \u001b[38;5;66;03m# If we have a listlike key, _check_indexing_error will raise\u001b[39;00m\n\u001b[0;32m   3800\u001b[0m     \u001b[38;5;66;03m#  InvalidIndexError. Otherwise we fall through and re-raise\u001b[39;00m\n\u001b[0;32m   3801\u001b[0m     \u001b[38;5;66;03m#  the TypeError.\u001b[39;00m\n\u001b[0;32m   3802\u001b[0m     \u001b[38;5;28mself\u001b[39m\u001b[38;5;241m.\u001b[39m_check_indexing_error(key)\n",
      "\u001b[1;31mKeyError\u001b[0m: 16"
     ]
    }
   ],
   "source": [
    "for h in range(1, 8):\n",
    "    df_device = df_org[df_org['device_id'] == h]\n",
    "    a = check_doubles(df_device)\n",
    "    print(a)"
   ]
  },
  {
   "cell_type": "code",
   "execution_count": null,
   "metadata": {},
   "outputs": [],
   "source": []
  },
  {
   "cell_type": "code",
   "execution_count": null,
   "metadata": {},
   "outputs": [],
   "source": []
  },
  {
   "cell_type": "code",
   "execution_count": 93,
   "metadata": {},
   "outputs": [
    {
     "data": {
      "text/plain": [
       "<Axes: >"
      ]
     },
     "execution_count": 93,
     "metadata": {},
     "output_type": "execute_result"
    },
    {
     "data": {
      "image/png": "[encoded data removed]",
      "text/plain": [
       "<Figure size 640x480 with 1 Axes>"
      ]
     },
     "metadata": {},
     "output_type": "display_data"
    }
   ],
   "source": [
    "df_org = pd.read_csv('datasets/first_tier_data_set.csv')\n",
    "df_org['start_time'] = pd.to_datetime(df_org['start_time'])\n",
    "df_org['end_time'] = pd.to_datetime(df_org['end_time'])\n",
    "\n",
    "df_org['duration_h'] = (df_org['end_time'] - df_org['start_time']).dt.total_seconds() / 60 / 60\n",
    "df_org[['duration_h', 'min_charge_mW']].corr()\n",
    "df_org[['max_charge_mW', 'max_discharge_mW']].corr()\n",
    "\n",
    "df_org[df_org['duration_h'] > 24]['duration_h'].hist()"
   ]
  },
  {
   "cell_type": "code",
   "execution_count": 97,
   "metadata": {},
   "outputs": [
    {
     "data": {
      "text/plain": [
       "device_id                 93\n",
       "start_time                93\n",
       "end_time                  93\n",
       "min_charge_mW             93\n",
       "max_charge_mW             93\n",
       "max_discharge_mW          93\n",
       "kWh_charged               93\n",
       "charging_efficiency       93\n",
       "discharging_efficiency    93\n",
       "duration_h                93\n",
       "start_dayname             93\n",
       "dtype: int64"
      ]
     },
     "execution_count": 97,
     "metadata": {},
     "output_type": "execute_result"
    }
   ],
   "source": [
    "df_org[\"start_dayname\"] = df_org[\"start_time\"].dt.day_name()\n",
    "df_org[df_org[\"start_dayname\"] == \"Wednesday\"].count()"
   ]
  }
 ],
 "metadata": {
  "kernelspec": {
   "display_name": "Python 3",
   "language": "python",
   "name": "python3"
  },
  "language_info": {
   "codemirror_mode": {
    "name": "ipython",
    "version": 3
   },
   "file_extension": ".py",
   "mimetype": "text/x-python",
   "name": "python",
   "nbconvert_exporter": "python",
   "pygments_lexer": "ipython3",
   "version": "3.11.1"
  }
 },
 "nbformat": 4,
 "nbformat_minor": 2
}
