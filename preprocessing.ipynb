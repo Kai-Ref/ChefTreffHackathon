{
 "cells": [
  {
   "cell_type": "markdown",
   "metadata": {},
   "source": [
    "# Plugged In 15 Min"
   ]
  },
  {
   "cell_type": "code",
   "execution_count": 75,
   "metadata": {},
   "outputs": [],
   "source": [
    "import pandas as pd\n",
    "\n",
    "df_org = pd.read_csv('datasets/first_tier_data_set.csv')\n",
    "df_org['start_time'] = pd.to_datetime(df_org['start_time'])\n",
    "df_org['end_time'] = pd.to_datetime(df_org['end_time'])\n",
    "\n",
    "\n",
    "start_time = df_org.start_time.min().floor('15min')\n",
    "end_time = df_org.end_time.max().floor('15min')\n",
    "\n",
    "index = pd.date_range(start=start_time, end=end_time, freq='15T')\n",
    "\n",
    "df = pd.DataFrame(index=index, columns=['device_1', 'device_2', 'device_3', 'device_4', 'device_5', 'device_6', 'device_7'])\n",
    "df[:] = False\n",
    "\n",
    "\n",
    "\n",
    "\n",
    "for i, row in df_org.iterrows():\n",
    "    start = row['start_time'].round('15min')\n",
    "    end = row['end_time'].round('15min')\n",
    "    device_id = row['device_id']\n",
    "\n",
    "    df.loc[start:end, f\"device_{device_id}\"] = True\n",
    "\n",
    "pd.set_option('display.max_rows', 100)\n",
    "df.head(100)\n",
    "df.to_csv('plugged_in_15_min.csv')"
   ]
  },
  {
   "cell_type": "markdown",
   "metadata": {},
   "source": [
    "# "
   ]
  },
  {
   "cell_type": "code",
   "execution_count": 71,
   "metadata": {},
   "outputs": [],
   "source": [
    "import pandas as pd\n",
    "\n",
    "df_org = pd.read_csv('datasets/first_tier_data_set.csv')\n",
    "df_org['start_time'] = pd.to_datetime(df_org['start_time'])\n",
    "df_org['end_time'] = pd.to_datetime(df_org['end_time'])\n",
    "\n",
    "\n",
    "start_time = df_org.start_time.min().floor('15min')\n",
    "end_time = df_org.end_time.max().floor('15min')\n",
    "\n",
    "index = pd.date_range(start=start_time, end=end_time, freq='15min')\n",
    "\n",
    "col_names_plugged_in = {f\"device_{i}_plugged_in\":bool for i in range(1, 8)}\n",
    "col_names_kWh_charged = {f\"device_{i}_kWh_charged\":float for i in range(1, 8)}\n",
    "\n",
    "\n",
    "df = pd.DataFrame(index=index, dtype=col_names_plugged_in.update(col_names_kWh_charged))\n",
    "df[list(col_names_plugged_in.keys())] = False\n",
    "df[list(col_names_kWh_charged.keys())] = 0.0\n",
    "\n",
    "\n",
    "\n",
    "\n",
    "for i, row in df_org.iterrows():\n",
    "    start = row['start_time'].round('15min')\n",
    "    end = row['end_time'].round('15min')\n",
    "    \n",
    "    device_id = row['device_id']\n",
    "    kWh_charged = row['kWh_charged']\n",
    "\n",
    "    num_intervals = (end - start).seconds / 60 / 15\n",
    "\n",
    "    if num_intervals == 0:\n",
    "        num_intervals = 1\n",
    "\n",
    "    df.loc[start:end, f\"device_{device_id}_plugged_in\"] = True\n",
    "    df.loc[start:end, f\"device_{device_id}_kWh_charged\"] = (kWh_charged / num_intervals)\n",
    "\n",
    "\n",
    "\n",
    "\n",
    "pd.set_option('display.max_rows', 100)\n",
    "df.head(100)\n",
    "df.to_csv('plugged_in_15_min2.csv')"
   ]
  },
  {
   "cell_type": "code",
   "execution_count": null,
   "metadata": {},
   "outputs": [],
   "source": [
    "df[[\"device_1_plugged_in\", \"device_1_kWh_charged\"]].head(40)"
   ]
  },
  {
   "cell_type": "code",
   "execution_count": 73,
   "metadata": {},
   "outputs": [
    {
     "name": "stdout",
     "output_type": "stream",
     "text": [
      "device_1_kWh_charged: 2812.35\n",
      "device_2_kWh_charged: 5902.30\n",
      "device_3_kWh_charged: 6027.26\n",
      "device_4_kWh_charged: 165.96\n",
      "device_5_kWh_charged: 878.90\n",
      "device_6_kWh_charged: 1586.77\n",
      "device_7_kWh_charged: 1331.19\n"
     ]
    }
   ],
   "source": [
    "for col in col_names_kWh_charged.keys():\n",
    "\n",
    "    sum = df[col].sum()\n",
    "    print(f\"{col}: {sum:.2f}\")"
   ]
  },
  {
   "cell_type": "code",
   "execution_count": 74,
   "metadata": {},
   "outputs": [
    {
     "data": {
      "text/plain": [
       "device_id\n",
       "1    2653.119755\n",
       "2    3867.058799\n",
       "3    1278.714737\n",
       "4     161.175438\n",
       "5     532.026328\n",
       "6    1061.144400\n",
       "7     976.073102\n",
       "Name: kWh_charged, dtype: float64"
      ]
     },
     "execution_count": 74,
     "metadata": {},
     "output_type": "execute_result"
    }
   ],
   "source": [
    "df_org.groupby('device_id')['kWh_charged'].sum()"
   ]
  }
 ],
 "metadata": {
  "kernelspec": {
   "display_name": "Python 3",
   "language": "python",
   "name": "python3"
  },
  "language_info": {
   "codemirror_mode": {
    "name": "ipython",
    "version": 3
   },
   "file_extension": ".py",
   "mimetype": "text/x-python",
   "name": "python",
   "nbconvert_exporter": "python",
   "pygments_lexer": "ipython3",
   "version": "3.11.1"
  }
 },
 "nbformat": 4,
 "nbformat_minor": 2
}
