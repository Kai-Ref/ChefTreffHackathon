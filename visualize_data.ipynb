{
 "cells": [
  {
   "cell_type": "code",
   "execution_count": 1,
   "metadata": {},
   "outputs": [],
   "source": [
    "import pandas as pd\n",
    "import matplotlib.pyplot as plt"
   ]
  },
  {
   "cell_type": "code",
   "execution_count": 14,
   "metadata": {},
   "outputs": [
    {
     "name": "stderr",
     "output_type": "stream",
     "text": [
      "C:\\Users\\sebbi\\AppData\\Local\\Temp\\ipykernel_23132\\1439601167.py:7: FutureWarning: 'T' is deprecated and will be removed in a future version, please use 'min' instead.\n",
      "  time_index = pd.date_range(start=start_time, end=end_time, freq='15T')\n"
     ]
    }
   ],
   "source": [
    "# Read the data from the CSV file\n",
    "data_org = pd.read_csv('first_tier_data_set.csv')\n",
    "\n",
    "start_time = data_org['start_time'].min()\n",
    "end_time = data_org['end_time'].max()\n",
    "# Create a DateTimeIndex with 15-minute frequency\n",
    "time_index = pd.date_range(start=start_time, end=end_time, freq='15T')\n",
    "\n",
    "# Create a DataFrame with the time index\n",
    "df = pd.DataFrame(index=time_index)\n",
    "\n",
    "\n"
   ]
  },
  {
   "cell_type": "code",
   "execution_count": null,
   "metadata": {},
   "outputs": [],
   "source": []
  }
 ],
 "metadata": {
  "kernelspec": {
   "display_name": "Hackathon",
   "language": "python",
   "name": "python3"
  },
  "language_info": {
   "codemirror_mode": {
    "name": "ipython",
    "version": 3
   },
   "file_extension": ".py",
   "mimetype": "text/x-python",
   "name": "python",
   "nbconvert_exporter": "python",
   "pygments_lexer": "ipython3",
   "version": "3.11.9"
  }
 },
 "nbformat": 4,
 "nbformat_minor": 2
}
